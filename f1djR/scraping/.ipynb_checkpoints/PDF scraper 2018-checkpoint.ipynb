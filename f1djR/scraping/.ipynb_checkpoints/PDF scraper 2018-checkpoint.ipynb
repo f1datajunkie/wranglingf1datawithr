{
 "cells": [
  {
   "cell_type": "code",
   "execution_count": 2,
   "metadata": {},
   "outputs": [
    {
     "name": "stdout",
     "output_type": "stream",
     "text": [
      "\u001b[34mAUS\u001b[m\u001b[m \u001b[34mAUT\u001b[m\u001b[m \u001b[34mAZE\u001b[m\u001b[m \u001b[34mBHR\u001b[m\u001b[m \u001b[34mCAN\u001b[m\u001b[m \u001b[34mCHN\u001b[m\u001b[m \u001b[34mESP\u001b[m\u001b[m \u001b[34mGBR\u001b[m\u001b[m \u001b[34mHUN\u001b[m\u001b[m \u001b[34mMCO\u001b[m\u001b[m \u001b[34mRUS\u001b[m\u001b[m\r\n"
     ]
    }
   ],
   "source": [
    "!ls eventTiming/"
   ]
  },
  {
   "cell_type": "code",
   "execution_count": 2,
   "metadata": {
    "activity": false
   },
   "outputs": [],
   "source": [
    "import requests\n",
    "from bs4 import BeautifulSoup"
   ]
  },
  {
   "cell_type": "code",
   "execution_count": 3,
   "metadata": {
    "activity": false
   },
   "outputs": [],
   "source": [
    "url='http://www.fia.com/events/fia-formula-one-world-championship/season-2018/formula-one'\n",
    "response = requests.get(url,params={})"
   ]
  },
  {
   "cell_type": "code",
   "execution_count": 5,
   "metadata": {
    "activity": false
   },
   "outputs": [],
   "source": [
    "soup=BeautifulSoup(response.content, 'lxml')\n",
    "events=soup.findAll('div',{'class':'event-item past'})"
   ]
  },
  {
   "cell_type": "code",
   "execution_count": 6,
   "metadata": {
    "activity": false
   },
   "outputs": [
    {
     "data": {
      "text/plain": [
       "1"
      ]
     },
     "execution_count": 6,
     "metadata": {},
     "output_type": "execute_result"
    }
   ],
   "source": [
    "len(events)"
   ]
  },
  {
   "cell_type": "code",
   "execution_count": 7,
   "metadata": {},
   "outputs": [
    {
     "data": {
      "text/plain": [
       "[<div class=\"event-item past\">\n",
       " <div class=\"inner\">\n",
       " <div class=\"date cell\"> <div class=\"date-inner\">\n",
       " <div class=\"from-date cell\">\n",
       " <div class=\"day\">25</div>\n",
       " <div class=\"month\">Mar</div>\n",
       " </div>\n",
       " </div> </div>\n",
       " <div class=\"event cell\"> <a href=\"/championship/events/fia-formula-one-world-championship/season-2018/australian-grand-prix\"><div class=\"event-name cell\">Australian Grand Prix</div>\n",
       " <div class=\"event-location\">ALBERT PARK</div></a> </div>\n",
       " <div class=\"event-right-wrapper car-category-empty\">\n",
       " <div>\n",
       " <div class=\"classification cell \">\n",
       " <div class=\"classification-link\">\n",
       " <a class=\"link-label\" href=\"/events/fia-formula-one-world-championship/season-2018/race-classification\">Classification</a> </div>\n",
       " </div>\n",
       " <div class=\"car-category empty\">\n",
       " </div>\n",
       " <div class=\"country cell\">\n",
       " <img alt=\"AU\" class=\"countryicon iconset-gosquared_flat_large countrycode-au\" src=\"https://www.fia.com/sites/all/modules/contrib/countryicons_gosquared/flat-large/au.png\" title=\"\"/> <div class=\"country-name\">AUS</div>\n",
       " </div>\n",
       " </div>\n",
       " </div>\n",
       " </div>\n",
       " </div>]"
      ]
     },
     "execution_count": 7,
     "metadata": {},
     "output_type": "execute_result"
    }
   ],
   "source": [
    "events"
   ]
  },
  {
   "cell_type": "code",
   "execution_count": 5,
   "metadata": {
    "activity": false
   },
   "outputs": [
    {
     "name": "stdout",
     "output_type": "stream",
     "text": [
      "ls: eventTiming/: No such file or directory\r\n"
     ]
    }
   ],
   "source": [
    "!ls eventTiming/"
   ]
  },
  {
   "cell_type": "code",
   "execution_count": 6,
   "metadata": {},
   "outputs": [
    {
     "data": {
      "text/plain": [
       "[<div class=\"event-item past\">\n",
       " <div class=\"inner\">\n",
       " <div class=\"date cell\"> <div class=\"date-inner\">\n",
       " <div class=\"from-date cell\">\n",
       " <div class=\"day\">20</div>\n",
       " <div class=\"month\">Mar</div>\n",
       " </div>\n",
       " </div> </div>\n",
       " <div class=\"event cell\"> <a href=\"/championship/events/fia-formula-one-world-championship/season-2016/grand-prix-australia\"><div class=\"event-name cell\">Grand Prix of Australia</div>\n",
       " <div class=\"event-location\">ALBERT PARK</div></a> </div>\n",
       " <div class=\"classification cell\"> <a class=\"link-label\" href=\"/events/fia-formula-one-world-championship/season-2016/race-classification\">Classification</a> </div>\n",
       " <div class=\"country cell\"> <div><img alt=\"AUS\" src=\"http://www.fia.com/sites/all/modules/contrib/countryicons_gosquared/flat-large/au.png\" title=\"AUS\"/> <div class=\"country-name\">AUS</div>\n",
       " </div> </div> </div>\n",
       " </div>, <div class=\"event-item past\">\n",
       " <div class=\"inner\">\n",
       " <div class=\"date cell\"> <div class=\"date-inner\">\n",
       " <div class=\"from-date cell\">\n",
       " <div class=\"day\">03</div>\n",
       " <div class=\"month\">Apr</div>\n",
       " </div>\n",
       " </div> </div>\n",
       " <div class=\"event cell\"> <a href=\"/championship/events/fia-formula-one-world-championship/season-2016/grand-prix-bahrain\"><div class=\"event-name cell\">Grand Prix of Bahrain</div>\n",
       " <div class=\"event-location\">BAHRAIN</div></a> </div>\n",
       " <div class=\"classification cell\"> <a class=\"link-label\" href=\"/events/fia-formula-one-world-championship/season-2016/race-classification-0\">Classification</a> </div>\n",
       " <div class=\"country cell\"> <div><img alt=\"BHR\" src=\"http://www.fia.com/sites/all/modules/contrib/countryicons_gosquared/flat-large/bh.png\" title=\"BHR\"/> <div class=\"country-name\">BHR</div>\n",
       " </div> </div> </div>\n",
       " </div>, <div class=\"event-item past\">\n",
       " <div class=\"inner\">\n",
       " <div class=\"date cell\"> <div class=\"date-inner\">\n",
       " <div class=\"from-date cell\">\n",
       " <div class=\"day\">17</div>\n",
       " <div class=\"month\">Apr</div>\n",
       " </div>\n",
       " </div> </div>\n",
       " <div class=\"event cell\"> <a href=\"/championship/events/fia-formula-one-world-championship/season-2016/grand-prix-china\"><div class=\"event-name cell\">Grand Prix of China</div>\n",
       " <div class=\"event-location\">SHANGHAI INTERNATIONAL</div></a> </div>\n",
       " <div class=\"classification cell\"> <a class=\"link-label\" href=\"/events/fia-formula-one-world-championship/season-2016/race-classification-1\">Classification</a> </div>\n",
       " <div class=\"country cell\"> <div><img alt=\"CHN\" src=\"http://www.fia.com/sites/all/modules/contrib/countryicons_gosquared/flat-large/cn.png\" title=\"CHN\"/> <div class=\"country-name\">CHN</div>\n",
       " </div> </div> </div>\n",
       " </div>, <div class=\"event-item past\">\n",
       " <div class=\"inner\">\n",
       " <div class=\"date cell\"> <div class=\"date-inner\">\n",
       " <div class=\"from-date cell\">\n",
       " <div class=\"day\">01</div>\n",
       " <div class=\"month\">May</div>\n",
       " </div>\n",
       " </div> </div>\n",
       " <div class=\"event cell\"> <a href=\"/championship/events/fia-formula-one-world-championship/season-2016/grand-prix-russia\"><div class=\"event-name cell\">Grand Prix of Russia</div>\n",
       " <div class=\"event-location\">SOCHI</div></a> </div>\n",
       " <div class=\"classification cell\"> <a class=\"link-label\" href=\"/events/fia-formula-one-world-championship/season-2016/race-classification-2\">Classification</a> </div>\n",
       " <div class=\"country cell\"> <div><img alt=\"RUS\" src=\"http://www.fia.com/sites/all/modules/contrib/countryicons_gosquared/flat-large/ru.png\" title=\"RUS\"/> <div class=\"country-name\">RUS</div>\n",
       " </div> </div> </div>\n",
       " </div>, <div class=\"event-item past\">\n",
       " <div class=\"inner\">\n",
       " <div class=\"date cell\"> <div class=\"date-inner\">\n",
       " <div class=\"from-date cell\">\n",
       " <div class=\"day\">15</div>\n",
       " <div class=\"month\">May</div>\n",
       " </div>\n",
       " </div> </div>\n",
       " <div class=\"event cell\"> <a href=\"/championship/events/fia-formula-one-world-championship/season-2016/grand-prix-spain\"><div class=\"event-name cell\">Grand prix of Spain</div>\n",
       " <div class=\"event-location\">CATALUNYA</div></a> </div>\n",
       " <div class=\"classification cell\"> <a class=\"link-label\" href=\"/events/fia-formula-one-world-championship/season-2016/race-classification-3\">Classification</a> </div>\n",
       " <div class=\"country cell\"> <div><img alt=\"ESP\" src=\"http://www.fia.com/sites/all/modules/contrib/countryicons_gosquared/flat-large/es.png\" title=\"ESP\"/> <div class=\"country-name\">ESP</div>\n",
       " </div> </div> </div>\n",
       " </div>, <div class=\"event-item past\">\n",
       " <div class=\"inner\">\n",
       " <div class=\"date cell\"> <div class=\"date-inner\">\n",
       " <div class=\"from-date cell\">\n",
       " <div class=\"day\">29</div>\n",
       " <div class=\"month\">May</div>\n",
       " </div>\n",
       " </div> </div>\n",
       " <div class=\"event cell\"> <a href=\"/championship/events/fia-formula-one-world-championship/season-2016/grand-prix-monaco\"><div class=\"event-name cell\">Grand Prix of Monaco</div>\n",
       " <div class=\"event-location\">MONACO</div></a> </div>\n",
       " <div class=\"classification cell\"> <a class=\"link-label\" href=\"/events/fia-formula-one-world-championship/season-2016/race-classification-4\">Classification</a> </div>\n",
       " <div class=\"country cell\"> <div><img alt=\"MCO\" src=\"http://www.fia.com/sites/all/modules/contrib/countryicons_gosquared/flat-large/mc.png\" title=\"MCO\"/> <div class=\"country-name\">MCO</div>\n",
       " </div> </div> </div>\n",
       " </div>, <div class=\"event-item past\">\n",
       " <div class=\"inner\">\n",
       " <div class=\"date cell\"> <div class=\"date-inner\">\n",
       " <div class=\"from-date cell\">\n",
       " <div class=\"day\">12</div>\n",
       " <div class=\"month\">Jun</div>\n",
       " </div>\n",
       " </div> </div>\n",
       " <div class=\"event cell\"> <a href=\"/championship/events/fia-formula-one-world-championship/season-2016/grand-prix-canada\"><div class=\"event-name cell\">Grand Prix of Canada</div>\n",
       " <div class=\"event-location\">MONTREAL GILLES VILLENEUVE</div></a> </div>\n",
       " <div class=\"classification cell\"> <a class=\"link-label\" href=\"/events/fia-formula-one-world-championship/season-2016/race-classification-5\">Classification</a> </div>\n",
       " <div class=\"country cell\"> <div><img alt=\"CAN\" src=\"http://www.fia.com/sites/all/modules/contrib/countryicons_gosquared/flat-large/ca.png\" title=\"CAN\"/> <div class=\"country-name\">CAN</div>\n",
       " </div> </div> </div>\n",
       " </div>, <div class=\"event-item past\">\n",
       " <div class=\"inner\">\n",
       " <div class=\"date cell\"> <div class=\"date-inner\">\n",
       " <div class=\"from-date cell\">\n",
       " <div class=\"day\">19</div>\n",
       " <div class=\"month\">Jun</div>\n",
       " </div>\n",
       " </div> </div>\n",
       " <div class=\"event cell\"> <a href=\"/championship/events/fia-formula-one-world-championship/season-2016/grand-prix-europe\"><div class=\"event-name cell\">Grand Prix of Europe</div>\n",
       " <div class=\"event-location\">BAKU</div></a> </div>\n",
       " <div class=\"classification cell\"> <a class=\"link-label\" href=\"/events/fia-formula-one-world-championship/season-2016/race-classification-6\">Classification</a> </div>\n",
       " <div class=\"country cell\"> <div><img alt=\"AZE\" src=\"http://www.fia.com/sites/all/modules/contrib/countryicons_gosquared/flat-large/az.png\" title=\"AZE\"/> <div class=\"country-name\">AZE</div>\n",
       " </div> </div> </div>\n",
       " </div>, <div class=\"event-item past\">\n",
       " <div class=\"inner\">\n",
       " <div class=\"date cell\"> <div class=\"date-inner\">\n",
       " <div class=\"from-date cell\">\n",
       " <div class=\"day\">03</div>\n",
       " <div class=\"month\">Jul</div>\n",
       " </div>\n",
       " </div> </div>\n",
       " <div class=\"event cell\"> <a href=\"/championship/events/fia-formula-one-world-championship/season-2016/grand-prix-austria\"><div class=\"event-name cell\">Grand Prix of Austria</div>\n",
       " <div class=\"event-location\">RED BULL RING - SPIELBERG</div></a> </div>\n",
       " <div class=\"classification cell\"> <a class=\"link-label\" href=\"/events/fia-formula-one-world-championship/season-2016/race-classification-7\">Classification</a> </div>\n",
       " <div class=\"country cell\"> <div><img alt=\"AUT\" src=\"http://www.fia.com/sites/all/modules/contrib/countryicons_gosquared/flat-large/at.png\" title=\"AUT\"/> <div class=\"country-name\">AUT</div>\n",
       " </div> </div> </div>\n",
       " </div>, <div class=\"event-item past\">\n",
       " <div class=\"inner\">\n",
       " <div class=\"date cell\"> <div class=\"date-inner\">\n",
       " <div class=\"from-date cell\">\n",
       " <div class=\"day\">10</div>\n",
       " <div class=\"month\">Jul</div>\n",
       " </div>\n",
       " </div> </div>\n",
       " <div class=\"event cell\"> <a href=\"/championship/events/fia-formula-one-world-championship/season-2016/grand-prix-united-kingdom\"><div class=\"event-name cell\">Grand Prix of United Kingdom</div>\n",
       " <div class=\"event-location\">SILVERSTONE GRAND PRIX</div></a> </div>\n",
       " <div class=\"classification cell\"> <a class=\"link-label\" href=\"/events/fia-formula-one-world-championship/season-2016/race-classification-8\">Classification</a> </div>\n",
       " <div class=\"country cell\"> <div><img alt=\"GBR\" src=\"http://www.fia.com/sites/all/modules/contrib/countryicons_gosquared/flat-large/gb.png\" title=\"GBR\"/> <div class=\"country-name\">GBR</div>\n",
       " </div> </div> </div>\n",
       " </div>, <div class=\"event-item past\">\n",
       " <div class=\"inner\">\n",
       " <div class=\"date cell\"> <div class=\"date-inner\">\n",
       " <div class=\"from-date cell\">\n",
       " <div class=\"day\">24</div>\n",
       " <div class=\"month\">Jul</div>\n",
       " </div>\n",
       " </div> </div>\n",
       " <div class=\"event cell\"> <a href=\"/championship/events/fia-formula-one-world-championship/season-2016/grand-prix-hungary\"><div class=\"event-name cell\">Grand Prix of Hungary</div>\n",
       " <div class=\"event-location\">HUNGARORING</div></a> </div>\n",
       " <div class=\"classification cell\"> <a class=\"link-label\" href=\"/events/fia-formula-one-world-championship/season-2016/race-classification-9\">Classification</a> </div>\n",
       " <div class=\"country cell\"> <div><img alt=\"HUN\" src=\"http://www.fia.com/sites/all/modules/contrib/countryicons_gosquared/flat-large/hu.png\" title=\"HUN\"/> <div class=\"country-name\">HUN</div>\n",
       " </div> </div> </div>\n",
       " </div>, <div class=\"event-item past\">\n",
       " <div class=\"inner\">\n",
       " <div class=\"date cell\"> <div class=\"date-inner\">\n",
       " <div class=\"from-date cell\">\n",
       " <div class=\"day\">31</div>\n",
       " <div class=\"month\">Jul</div>\n",
       " </div>\n",
       " </div> </div>\n",
       " <div class=\"event cell\"> <a href=\"/championship/events/fia-formula-one-world-championship/season-2016/grand-prix-germany\"><div class=\"event-name cell\">Grand Prix of Germany</div>\n",
       " <div class=\"event-location\">HOCKENHEIM GRAND PRIX</div></a> </div>\n",
       " <div class=\"classification cell\"> <a class=\"link-label\" href=\"/events/fia-formula-one-world-championship/season-2016/race-classification-10\">Classification</a> </div>\n",
       " <div class=\"country cell\"> <div><img alt=\"DEU\" src=\"http://www.fia.com/sites/all/modules/contrib/countryicons_gosquared/flat-large/de.png\" title=\"DEU\"/> <div class=\"country-name\">DEU</div>\n",
       " </div> </div> </div>\n",
       " </div>, <div class=\"event-item past\">\n",
       " <div class=\"inner\">\n",
       " <div class=\"date cell\"> <div class=\"date-inner\">\n",
       " <div class=\"from-date cell\">\n",
       " <div class=\"day\">28</div>\n",
       " <div class=\"month\">Aug</div>\n",
       " </div>\n",
       " </div> </div>\n",
       " <div class=\"event cell\"> <a href=\"/championship/events/fia-formula-one-world-championship/season-2016/grand-prix-belgium\"><div class=\"event-name cell\">Grand Prix of Belgium</div>\n",
       " <div class=\"event-location\">SPA-FRANCORCHAMPS</div></a> </div>\n",
       " <div class=\"classification cell\"> <a class=\"link-label\" href=\"/events/fia-formula-one-world-championship/season-2016/race-classification-11\">Classification</a> </div>\n",
       " <div class=\"country cell\"> <div><img alt=\"BEL\" src=\"http://www.fia.com/sites/all/modules/contrib/countryicons_gosquared/flat-large/be.png\" title=\"BEL\"/> <div class=\"country-name\">BEL</div>\n",
       " </div> </div> </div>\n",
       " </div>, <div class=\"event-item past\">\n",
       " <div class=\"inner\">\n",
       " <div class=\"date cell\"> <div class=\"date-inner\">\n",
       " <div class=\"from-date cell\">\n",
       " <div class=\"day\">04</div>\n",
       " <div class=\"month\">Sep</div>\n",
       " </div>\n",
       " </div> </div>\n",
       " <div class=\"event cell\"> <a href=\"/championship/events/fia-formula-one-world-championship/season-2016/grand-prix-italy\"><div class=\"event-name cell\">Grand Prix of Italy</div>\n",
       " <div class=\"event-location\">MONZA</div></a> </div>\n",
       " <div class=\"classification cell\"> <a class=\"link-label\" href=\"/events/fia-formula-one-world-championship/season-2016/race-classification-12\">Classification</a> </div>\n",
       " <div class=\"country cell\"> <div><img alt=\"ITA\" src=\"http://www.fia.com/sites/all/modules/contrib/countryicons_gosquared/flat-large/it.png\" title=\"ITA\"/> <div class=\"country-name\">ITA</div>\n",
       " </div> </div> </div>\n",
       " </div>, <div class=\"event-item past\">\n",
       " <div class=\"inner\">\n",
       " <div class=\"date cell\"> <div class=\"date-inner\">\n",
       " <div class=\"from-date cell\">\n",
       " <div class=\"day\">18</div>\n",
       " <div class=\"month\">Sep</div>\n",
       " </div>\n",
       " </div> </div>\n",
       " <div class=\"event cell\"> <a href=\"/championship/events/fia-formula-one-world-championship/season-2016/grand-prix-singapore\"><div class=\"event-name cell\">Grand Prix of Singapore</div>\n",
       " <div class=\"event-location\">SINGAPORE - MARINA BAY</div></a> </div>\n",
       " <div class=\"classification cell\"> <a class=\"link-label\" href=\"/events/fia-formula-one-world-championship/season-2016/race-classification-13\">Classification</a> </div>\n",
       " <div class=\"country cell\"> <div><img alt=\"SGP\" src=\"http://www.fia.com/sites/all/modules/contrib/countryicons_gosquared/flat-large/sg.png\" title=\"SGP\"/> <div class=\"country-name\">SGP</div>\n",
       " </div> </div> </div>\n",
       " </div>, <div class=\"event-item past\">\n",
       " <div class=\"inner\">\n",
       " <div class=\"date cell\"> <div class=\"date-inner\">\n",
       " <div class=\"from-date cell\">\n",
       " <div class=\"day\">02</div>\n",
       " <div class=\"month\">Oct</div>\n",
       " </div>\n",
       " </div> </div>\n",
       " <div class=\"event cell\"> <a href=\"/championship/events/fia-formula-one-world-championship/season-2016/grand-prix-malaysia\"><div class=\"event-name cell\">Grand Prix of Malaysia</div>\n",
       " <div class=\"event-location\">SEPANG</div></a> </div>\n",
       " <div class=\"classification cell\"> <a class=\"link-label\" href=\"/events/fia-formula-one-world-championship/season-2016/race-classification-14\">Classification</a> </div>\n",
       " <div class=\"country cell\"> <div><img alt=\"MYS\" src=\"http://www.fia.com/sites/all/modules/contrib/countryicons_gosquared/flat-large/my.png\" title=\"MYS\"/> <div class=\"country-name\">MYS</div>\n",
       " </div> </div> </div>\n",
       " </div>, <div class=\"event-item past\">\n",
       " <div class=\"inner\">\n",
       " <div class=\"date cell\"> <div class=\"date-inner\">\n",
       " <div class=\"from-date cell\">\n",
       " <div class=\"day\">09</div>\n",
       " <div class=\"month\">Oct</div>\n",
       " </div>\n",
       " </div> </div>\n",
       " <div class=\"event cell\"> <a href=\"/championship/events/fia-formula-one-world-championship/season-2016/grand-prix-japan\"><div class=\"event-name cell\">Grand Prix of Japan</div>\n",
       " <div class=\"event-location\">SUZUKA</div></a> </div>\n",
       " <div class=\"classification cell\"> <a class=\"link-label\" href=\"/events/fia-formula-one-world-championship/season-2016/race-classification-15\">Classification</a> </div>\n",
       " <div class=\"country cell\"> <div><img alt=\"JPN\" src=\"http://www.fia.com/sites/all/modules/contrib/countryicons_gosquared/flat-large/jp.png\" title=\"JPN\"/> <div class=\"country-name\">JPN</div>\n",
       " </div> </div> </div>\n",
       " </div>, <div class=\"event-item past\">\n",
       " <div class=\"inner\">\n",
       " <div class=\"date cell\"> <div class=\"date-inner\">\n",
       " <div class=\"from-date cell\">\n",
       " <div class=\"day\">23</div>\n",
       " <div class=\"month\">Oct</div>\n",
       " </div>\n",
       " </div> </div>\n",
       " <div class=\"event cell\"> <a href=\"/championship/events/fia-formula-one-world-championship/season-2016/grand-prix-usa\"><div class=\"event-name cell\">Grand Prix of the USA</div>\n",
       " <div class=\"event-location\">AUSTIN</div></a> </div>\n",
       " <div class=\"classification cell\"> <a class=\"link-label\" href=\"/events/fia-formula-one-world-championship/season-2016/race-classification-16\">Classification</a> </div>\n",
       " <div class=\"country cell\"> <div><img alt=\"USA\" src=\"http://www.fia.com/sites/all/modules/contrib/countryicons_gosquared/flat-large/us.png\" title=\"USA\"/> <div class=\"country-name\">USA</div>\n",
       " </div> </div> </div>\n",
       " </div>, <div class=\"event-item past\">\n",
       " <div class=\"inner\">\n",
       " <div class=\"date cell\"> <div class=\"date-inner\">\n",
       " <div class=\"from-date cell\">\n",
       " <div class=\"day\">30</div>\n",
       " <div class=\"month\">Oct</div>\n",
       " </div>\n",
       " </div> </div>\n",
       " <div class=\"event cell\"> <a href=\"/championship/events/fia-formula-one-world-championship/season-2016/grand-prix-mexico\"><div class=\"event-name cell\">Grand Prix of Mexico</div>\n",
       " <div class=\"event-location\">Hermanos Rodríguez</div></a> </div>\n",
       " <div class=\"classification cell\"> <a class=\"link-label\" href=\"/events/fia-formula-one-world-championship/season-2016/race-classification-17\">Classification</a> </div>\n",
       " <div class=\"country cell\"> <div><img alt=\"MEX\" src=\"http://www.fia.com/sites/all/modules/contrib/countryicons_gosquared/flat-large/mx.png\" title=\"MEX\"/> <div class=\"country-name\">MEX</div>\n",
       " </div> </div> </div>\n",
       " </div>]"
      ]
     },
     "execution_count": 6,
     "metadata": {},
     "output_type": "execute_result"
    }
   ],
   "source": [
    "events"
   ]
  },
  {
   "cell_type": "code",
   "execution_count": 8,
   "metadata": {
    "activity": false
   },
   "outputs": [],
   "source": [
    "timing=[x.lower() for x in ['Official Classification','Provisional Classification','Preliminary Classification',\n",
    "        'Fastest Laps','History Chart','Lap Chart','Lap Analysis','Pit Stop Summary','Best Sector Times'\n",
    "        ,'Maximum Speeds','Official Starting Grid','Provisional Starting Grid','Qualifying Session',\n",
    "        'Official Classification','Provisional Classification','Speed Trap',\n",
    "        'Preliminary Classification','Lap Times','Provisionnal Classification','Provisionnal Starting Grid',\n",
    "        'Speed Trap','Classification']]\n"
   ]
  },
  {
   "cell_type": "code",
   "execution_count": 9,
   "metadata": {},
   "outputs": [
    {
     "data": {
      "text/plain": [
       "[<div class=\"event-item past\">\n",
       " <div class=\"inner\">\n",
       " <div class=\"date cell\"> <div class=\"date-inner\">\n",
       " <div class=\"from-date cell\">\n",
       " <div class=\"day\">25</div>\n",
       " <div class=\"month\">Mar</div>\n",
       " </div>\n",
       " </div> </div>\n",
       " <div class=\"event cell\"> <a href=\"/championship/events/fia-formula-one-world-championship/season-2018/australian-grand-prix\"><div class=\"event-name cell\">Australian Grand Prix</div>\n",
       " <div class=\"event-location\">ALBERT PARK</div></a> </div>\n",
       " <div class=\"event-right-wrapper car-category-empty\">\n",
       " <div>\n",
       " <div class=\"classification cell \">\n",
       " <div class=\"classification-link\">\n",
       " <a class=\"link-label\" href=\"/events/fia-formula-one-world-championship/season-2018/race-classification\">Classification</a> </div>\n",
       " </div>\n",
       " <div class=\"car-category empty\">\n",
       " </div>\n",
       " <div class=\"country cell\">\n",
       " <img alt=\"AU\" class=\"countryicon iconset-gosquared_flat_large countrycode-au\" src=\"https://www.fia.com/sites/all/modules/contrib/countryicons_gosquared/flat-large/au.png\" title=\"\"/> <div class=\"country-name\">AUS</div>\n",
       " </div>\n",
       " </div>\n",
       " </div>\n",
       " </div>\n",
       " </div>]"
      ]
     },
     "execution_count": 9,
     "metadata": {},
     "output_type": "execute_result"
    }
   ],
   "source": [
    "events[-1:]"
   ]
  },
  {
   "cell_type": "code",
   "execution_count": 11,
   "metadata": {
    "activity": false,
    "scrolled": false
   },
   "outputs": [
    {
     "name": "stdout",
     "output_type": "stream",
     "text": [
      "Australian Grand Prix AUS ALBERT PARK\n",
      "http://www.fia.com/championship/events/fia-formula-one-world-championship/season-2018/australian-grand-prix\n",
      "/events/fia-formula-one-world-championship/season-2018/eventtiming-information\n"
     ]
    },
    {
     "name": "stderr",
     "output_type": "stream",
     "text": [
      "/Users/ajh59/anaconda3/lib/python3.6/site-packages/bs4/__init__.py:181: UserWarning: No parser was explicitly specified, so I'm using the best available HTML parser for this system (\"lxml\"). This usually isn't a problem, but if you run this code on another system, or in a different virtual environment, it may use a different parser and behave differently.\n",
      "\n",
      "The code that caused this warning is on line 193 of the file /Users/ajh59/anaconda3/lib/python3.6/runpy.py. To get rid of this warning, change code that looks like this:\n",
      "\n",
      " BeautifulSoup(YOUR_MARKUP})\n",
      "\n",
      "to this:\n",
      "\n",
      " BeautifulSoup(YOUR_MARKUP, \"lxml\")\n",
      "\n",
      "  markup_type=markup_type))\n"
     ]
    },
    {
     "ename": "TypeError",
     "evalue": "a bytes-like object is required, not 'str'",
     "output_type": "error",
     "traceback": [
      "\u001b[0;31m---------------------------------------------------------------------------\u001b[0m",
      "\u001b[0;31mTypeError\u001b[0m                                 Traceback (most recent call last)",
      "\u001b[0;32m<ipython-input-11-f73af261044e>\u001b[0m in \u001b[0;36m<module>\u001b[0;34m()\u001b[0m\n\u001b[1;32m     53\u001b[0m             \u001b[0mpath\u001b[0m\u001b[0;34m=\u001b[0m\u001b[0mprepath\u001b[0m\u001b[0;34m\u001b[0m\u001b[0m\n\u001b[1;32m     54\u001b[0m         \u001b[0mprev\u001b[0m\u001b[0;34m=\u001b[0m\u001b[0mprepath\u001b[0m\u001b[0;34m\u001b[0m\u001b[0m\n\u001b[0;32m---> 55\u001b[0;31m         \u001b[0mp\u001b[0m\u001b[0;34m=\u001b[0m\u001b[0;34m'{d}/{path}.pdf'\u001b[0m\u001b[0;34m.\u001b[0m\u001b[0mformat\u001b[0m\u001b[0;34m(\u001b[0m\u001b[0md\u001b[0m\u001b[0;34m=\u001b[0m\u001b[0md\u001b[0m\u001b[0;34m,\u001b[0m\u001b[0mpath\u001b[0m\u001b[0;34m=\u001b[0m\u001b[0mpath\u001b[0m\u001b[0;34m.\u001b[0m\u001b[0mreplace\u001b[0m\u001b[0;34m(\u001b[0m\u001b[0;34m'/'\u001b[0m\u001b[0;34m,\u001b[0m\u001b[0;34m'_'\u001b[0m\u001b[0;34m)\u001b[0m\u001b[0;34m)\u001b[0m\u001b[0;34m\u001b[0m\u001b[0m\n\u001b[0m\u001b[1;32m     56\u001b[0m \u001b[0;34m\u001b[0m\u001b[0m\n\u001b[1;32m     57\u001b[0m         \u001b[0;31m#print(p)\u001b[0m\u001b[0;34m\u001b[0m\u001b[0;34m\u001b[0m\u001b[0m\n",
      "\u001b[0;31mTypeError\u001b[0m: a bytes-like object is required, not 'str'"
     ]
    }
   ],
   "source": [
    "import os\n",
    "domain=\"http://www.fia.com\"\n",
    "\n",
    "import re\n",
    "\n",
    "def download_file(url,f):\n",
    "    response = re.urlopen(url)\n",
    "    file = open(\"document.pdf\", 'w')\n",
    "    file.write(response.read())\n",
    "    file.close()\n",
    "    print(\"Completed\")\n",
    "\n",
    "for event in events[-1:]:\n",
    "    prev=''\n",
    "    phase='R'\n",
    "    gp=event.find('div',{'class':'event-name'}).text.replace('Grand Prix of ','').strip()\n",
    "    c=event.find('div',{'class':'country-name'}).text.strip()\n",
    "    l=event.find('div',{'class':'event-location'}).text.strip()\n",
    "    u=event.find('div',{'class':'event cell'}).find('a')['href']\n",
    "    \n",
    "    print(gp,c,l)\n",
    "    d='eventTiming/{}'.format(c)\n",
    "    if not os.path.exists(d):\n",
    "        os.makedirs(d) \n",
    "    url='{}{}'.format(domain,u)\n",
    "    print(url)\n",
    "    eventpage=requests.get(url)\n",
    "    eventsoup=BeautifulSoup(eventpage.content,'lxml')\n",
    "    #print(eventsoup.find('a',text='Event & Timing information')['href'])\n",
    "    #pdfsoup=BeautifulSoup(requests.get('{}{}'.format(domain,eventsoup.find('a',text='Event & Timing information')['href'])).content)\n",
    "    #soup.findAll('a', href=re.compile('^http://www.nhl.com/ice/boxscore.htm\\?id='))\n",
    "    eventSlug='.*eventtiming-.*'\n",
    "    print(eventsoup.find('a',href=re.compile(eventSlug))['href'])\n",
    "    pdfsoup=BeautifulSoup(requests.get('{}{}'.format(domain,eventsoup.find('a',href=re.compile(eventSlug))['href'])).content)\n",
    "    middle=pdfsoup.find('div',{'class':'content'}).find('div',{'class':'middle'})\n",
    "\n",
    "    for maybe in middle.findAll(\"a\"):\n",
    "        #print(maybe['href'])\n",
    "        prepath=maybe.text.encode('ascii', 'ignore').strip()\n",
    "        #print('fing path*{}*'.format(prepath))\n",
    "        if prepath.lower() in timing:\n",
    "            if (prev=='Official Starting Grid' and prepath=='Lap Times'): phase='P3'\n",
    "            path='{} - {}'.format(phase,prepath)\n",
    "            if prepath=='Provisional Starting Grid' or prepath=='Provisionnal Starting Grid':\n",
    "                phase='Q'\n",
    "            elif (phase=='Q' and prepath=='Maximum Speeds') or (phase=='Q' and (c=='MYS' or c=='CHN') and prepath=='Provisionnal Classification'):\n",
    "                phase='P3'\n",
    "            elif phase=='P3' and prepath=='Classification' :\n",
    "                phase='P2'\n",
    "            elif phase=='P2' and prepath=='Classification':\n",
    "                phase='P1'\n",
    "        else:\n",
    "            path=prepath\n",
    "        prev=prepath\n",
    "        p='{d}/{path}.pdf'.format(d=d,path=path.replace('/','_'))\n",
    "\n",
    "        #print(p)\n",
    "        if not os.path.isfile(p):\n",
    "            print(\"downloading\",d,maybe.text.encode('ascii', 'ignore'))\n",
    "            os.system('wget {url} -O \"{p}\"'.format(url='{}{}'.format(domain,maybe['href']),p=p))\n"
   ]
  },
  {
   "cell_type": "code",
   "execution_count": 44,
   "metadata": {
    "activity": false
   },
   "outputs": [
    {
     "name": "stdout",
     "output_type": "stream",
     "text": [
      "01_australia_eng.pdf\r\n",
      "02_malesia_eng.pdf\r\n",
      "PDF scraper.ipynb\r\n",
      "Pirelli2015MediaGuide.pdf\r\n",
      "\u001b[34meventTiming\u001b[m\u001b[m/\r\n",
      "pirelli_preview_australia_25311.pdf\r\n",
      "pirelli_preview_china_25671.pdf\r\n",
      "pirelli_preview_malaysia_25495.pdf\r\n",
      "pirelli_review_australia_25422.pdf\r\n",
      "pirelli_review_malaysia_25605.pdf\r\n",
      "rsf1-presskit-2015-en_v6.pdf\r\n",
      "ubs-formula-1-f1-race-strategy-briefing-infographic-kuala lumpur-malaysia.pdf\r\n"
     ]
    }
   ],
   "source": [
    "ls"
   ]
  },
  {
   "cell_type": "code",
   "execution_count": 12,
   "metadata": {
    "activity": false
   },
   "outputs": [
    {
     "name": "stdout",
     "output_type": "stream",
     "text": [
      "http://www.fia.com/championship/events/fia-formula-one-world-championship/season-2016/grand-prix-russia\n"
     ]
    }
   ],
   "source": [
    "print(url)\n",
    "eventpage=requests.get(url)\n",
    "eventsoup=BeautifulSoup(eventpage.content)\n",
    "pdfsoup=BeautifulSoup(requests.get('{}{}'.format(domain,eventsoup.find('a',href=re.compile('.*event-timing-.*'))['href'])).content)\n",
    "middle=pdfsoup.find('div',{'class':'content'}).find('div',{'class':'middle'})"
   ]
  },
  {
   "cell_type": "code",
   "execution_count": 14,
   "metadata": {},
   "outputs": [
    {
     "name": "stdout",
     "output_type": "stream",
     "text": [
      "<a href=\"/file/40855/download?token=o-TNemmy\" target=\"_blank\">Grand Prix Preview</a>\n",
      "<a href=\"/file/40904/download?token=MyE12zD6\" target=\"_blank\">Entry List</a>\n",
      "<a href=\"/file/40881/download?token=4Rd5HCsi\" target=\"_blank\">Circuit Map</a>\n",
      "<a href=\"/file/41063/download?token=B4SJLYk_\" target=\"_blank\">Official Classification</a>\n",
      "<a href=\"/file/41062/download?token=db9G0SNt\" target=\"_blank\">Provisional Classification</a>\n",
      "<a href=\"/file/41061/download?token=Wtwsqzec\" target=\"_blank\">Preliminary Classification</a>\n",
      "<a href=\"/file/41060/download?token=Ukepyc88\" target=\"_blank\">Fastest Laps</a>\n",
      "<a href=\"/file/41059/download?token=56tZIA-X\" target=\"_blank\">History Chart</a>\n",
      "<a href=\"/file/41058/download?token=y8hjQG3p\" target=\"_blank\">Lap chart</a>\n",
      "<a href=\"/file/41057/download?token=2CoHjHbX\" target=\"_blank\">Lap Analysis</a>\n",
      "<a href=\"/file/41056/download?token=yS22U3BJ\" target=\"_blank\">Pit Stop summary</a>\n",
      "<a href=\"/file/41055/download?token=rQbhefj7\" target=\"_blank\">Best Sector Times</a>\n",
      "<a href=\"/file/41053/download?token=yNdZ8BHv\" target=\"_blank\">Maximum Speeds</a>\n",
      "<a href=\"/file/41052/download?token=NTehmvDe\" target=\"_blank\">Official Starting Grid</a>\n",
      "<a href=\"/file/41011/download?token=vpfUwIgn\" target=\"_blank\">Provisional Starting Grid</a>\n",
      "<a href=\"/file/41009/download?token=8Ojbt8Y1\" target=\"_blank\">Official Classification</a>\n",
      "<a href=\"/file/41008/download?token=_-zyW16v\" target=\"_blank\">Provisional Classification</a>\n",
      "<a href=\"/file/40993/download?token=HoLAQf5B\" target=\"_blank\">Preliminary Classification</a>\n",
      "<a href=\"/file/40992/download?token=OMZKGukx\" target=\"_blank\">Lap Times</a>\n",
      "<a href=\"/file/40991/download?token=8O6fGmYY\" target=\"_blank\">Best Sector Times</a>\n",
      "<a href=\"/file/40990/download?token=on6CG0jq\" target=\"_blank\">Speed Trap</a>\n",
      "<a href=\"/file/40989/download?token=A4rOqabf\" target=\"_blank\">Maximum Speeds</a>\n",
      "<a href=\"/file/40980/download?token=p8TcJs5T\" target=\"_blank\">Lap Times</a>\n",
      "<a href=\"/file/40981/download?token=ii7FKbzL\" target=\"_blank\">Classification</a>\n",
      "<a href=\"/file/40947/download?token=EAdIAC6B\" target=\"_blank\">Lap Times</a>\n",
      "<a href=\"/file/40946/download?token=pfNe-QUe\" target=\"_blank\">Classification</a>\n",
      "<a href=\"/file/40929/download?token=UKOS1yXZ\" target=\"_blank\">Lap Times</a>\n",
      "<a href=\"/file/40928/download?token=AgPe-APk\" target=\"_blank\">Classification</a>\n",
      "<a href=\"/file/41024/download?token=zaGj-L4O\" target=\"_blank\">01.05 - Technical Report Doc32 - Parc Fermé</a>\n",
      "<a href=\"/file/41022/download?token=-yLoAyiz\" target=\"_blank\">01.05 - Technical Report Doc31 - J.Palmer</a>\n",
      "<a href=\"/file/41007/download?token=T-IaQqWy\" target=\"_blank\">30.04 - Technical Report Doc27 - FP3/Qualifying</a>\n",
      "<a href=\"/file/41000/download?token=tNkjy6BB\" target=\"_blank\">30.04 - Technical Report Doc26 - Q3</a>\n",
      "<a href=\"/file/40994/download?token=JNNncLr0\" target=\"_blank\">30.04 - Technical Report Doc21 - New PU Elements</a>\n",
      "<a href=\"/file/40978/download?token=7wNCgtmp\" target=\"_blank\">30.04 - Technical Report Doc17 - New PU Elements</a>\n",
      "<a href=\"/file/40954/download?token=KSi52X6-\" target=\"_blank\">29.04 - Technical Report Doc15 - New Gearbox</a>\n",
      "<a href=\"/file/40953/download?token=DrSklZQK\" target=\"_blank\">29.04 - Technical Report Doc13 - FP1/FP2</a>\n",
      "<a href=\"/file/40921/download?token=jNaxGKs2\" target=\"_blank\">29.04 - Technical Report Doc7 - New PU Elements</a>\n",
      "<a href=\"/file/40896/download?token=H8ycTNCH\" target=\"_blank\">28.04 - Technical Report Doc4 - Initial Scrutineering</a>\n",
      "<a href=\"/file/40892/download?token=ZvxPCyAp\" target=\"_blank\">28.04 - Technical Report Doc3 - PU Elements</a>\n",
      "<a href=\"/file/40866/download?token=JVfMV31w\" target=\"_blank\">P.Gutjahr, N.Shetty, E.Pirro</a>\n",
      "<a href=\"/file/41028/download?token=GEQOntHj\" target=\"_blank\">01.05 - Stewards Decision Doc37 - F.Nasr</a>\n",
      "<a href=\"/file/41027/download?token=y3pNP_MG\" target=\"_blank\">01.05 - Stewards Decision Doc36 - C.Sainz</a>\n",
      "<a href=\"/file/41026/download?token=49Znvc-V\" target=\"_blank\">01.05 - Stewards Decision Doc35 - E.Gutierrez</a>\n",
      "<a href=\"/file/41025/download?token=TkkvGg6p\" target=\"_blank\">01.05 - Stewards Decision Doc34 - D.Kvyat</a>\n",
      "<a href=\"/file/41005/download?token=oIpNiBkj\" target=\"_blank\">30.04 - Stewards Decision Doc25 - L.Hamilton</a>\n",
      "<a href=\"/file/40996/download?token=_P4oLZkG\" target=\"_blank\">30.04 - Stewards Decision Doc22 - L.Hamilton</a>\n",
      "<a href=\"/file/40995/download?token=q3yUUv9o\" target=\"_blank\">30.04 - Stewards Decision Doc20 - S.Vettel</a>\n",
      "<a href=\"/file/40977/download?token=S9xUg-6X\" target=\"_blank\">30.04 - Stewards Decision Doc18 - R.Haryanto</a>\n",
      "<a href=\"/file/40923/download?token=prwQJDYP\" target=\"_blank\">29.04 - Stewards Decision Doc9 - S.Perez</a>\n",
      "<a href=\"/file/40922/download?token=QG_isBU6\" target=\"_blank\">29.04 - Stewards Decision Doc8 - E.Gutierrez</a>\n",
      "<a href=\"/file/40976/download?token=7nJZENBA\" target=\"_blank\">30.04 - Event Notes</a>\n",
      "<a href=\"/file/40951/download?token=5iRBLg5b\" target=\"_blank\">29.04 - Note to Teams</a>\n",
      "<a href=\"/file/40889/download?token=9wYHoRxq\" target=\"_blank\">28.04 - Event Notes</a>\n",
      "<a href=\"/file/40857/download?token=MpPeNhBW\" target=\"_blank\">Press Conferences Schedule</a>\n",
      "<a href=\"/file/40909/download?token=X7yDdgXb\" target=\"_blank\">Thursday Press Conference</a>\n",
      "<a href=\"/file/40957/download?token=JGWKp0FO\" target=\"_blank\">Friday Press Conference</a>\n",
      "<a href=\"/file/41001/download?token=HRCw68Pg\" target=\"_blank\">Post Qualifying Press Conference</a>\n",
      "<a href=\"/file/41042/download?token=Voz9F9L4\" target=\"_blank\">Post Race Press Conference</a>\n",
      "<a href=\"/file/40837/download?token=HC-Sl2OW\" target=\"_blank\">Media Kit</a>\n",
      "<a href=\"/file/41031/download?token=jAxsXlnI\" target=\"_blank\">Drivers' Classification</a>\n",
      "<a href=\"/file/41032/download?token=OpxUU2D-\" target=\"_blank\">Constructors Classifications</a>\n"
     ]
    }
   ],
   "source": [
    "for a in middle.findAll(\"a\"):\n",
    "    print(a)"
   ]
  },
  {
   "cell_type": "code",
   "execution_count": null,
   "metadata": {
    "collapsed": true
   },
   "outputs": [],
   "source": []
  }
 ],
 "metadata": {
  "kernelspec": {
   "display_name": "Python 3",
   "language": "python",
   "name": "python3"
  },
  "language_info": {
   "codemirror_mode": {
    "name": "ipython",
    "version": 3
   },
   "file_extension": ".py",
   "mimetype": "text/x-python",
   "name": "python",
   "nbconvert_exporter": "python",
   "pygments_lexer": "ipython3",
   "version": "3.6.4"
  }
 },
 "nbformat": 4,
 "nbformat_minor": 1
}
